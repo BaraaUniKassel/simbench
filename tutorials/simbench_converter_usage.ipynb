{
 "cells": [
  {
   "cell_type": "markdown",
   "metadata": {},
   "source": [
    "# SimBench Converter"
   ]
  },
  {
   "cell_type": "markdown",
   "metadata": {},
   "source": [
    "This tutorial introduces the SimBench csv format and the converter, connecting pandapower with the SimBench csv format:\n",
    "    \n",
    "The SimBench csv format is, similar to the pandapower format, an element based model which stores the parameters of each element in a table. Widespread element models are used.\n",
    "\n",
    "Two function, one in each direction, connects the csv files where the SimBench csv format data is stored with the pandapower net structure: csv2pp() and pp2csv(). These functions uses the internal functions csv_data2pp() and pp2csv_data(). The internal functions do the full conversion but do not perform reading or writing csv files."
   ]
  },
  {
   "cell_type": "code",
   "execution_count": 2,
   "metadata": {},
   "outputs": [
    {
     "name": "stderr",
     "output_type": "stream",
     "text": [
      "hp.pandapower.toolbox - INFO: set 0 of 0 unsupplied buses out of service\n",
      "hp.pandapower.toolbox - INFO: dropped 0 lines with 0 line switches\n",
      "hp.pandapower.toolbox - INFO: dropped 0 trafo elements with 0 switches\n",
      "hp.pandapower.toolbox - INFO: dropped 0 trafo3w elements with 0 switches\n",
      "hp.pandapower.toolbox - INFO: dropped 0 switches\n",
      "hp.converter.simbench.csv_pp_converter - WARNING: In elements ['sgen', 'load']'scaling' differs from 1, which is not converted.\n",
      "C:\\Users\\e2n011\\Documents\\GIT\\pandapower-pro\\converter\\simbench\\csv_pp_converter.py:777: FutureWarning:\n",
      "\n",
      "Sorting because non-concatenation axis is not aligned. A future version\n",
      "of pandas will change to not sort by default.\n",
      "\n",
      "To accept the future behavior, pass 'sort=False'.\n",
      "\n",
      "To retain the current behavior and silence the warning, pass 'sort=True'.\n",
      "\n",
      "\n",
      "hp.converter.simbench.csv_pp_converter - INFO: There are 2 ExternalNet without subnet data.\n",
      "hp.converter.simbench.csv_pp_converter - INFO: There are 181 Line without subnet data.\n",
      "hp.converter.simbench.csv_pp_converter - INFO: There are 147 Load without subnet data.\n",
      "hp.converter.simbench.csv_pp_converter - INFO: There are 501 Node without subnet data.\n",
      "hp.converter.simbench.csv_pp_converter - INFO: There are 153 RES without subnet data.\n",
      "hp.converter.simbench.csv_pp_converter - INFO: There are 322 Switch without subnet data.\n",
      "hp.converter.simbench.csv_pp_converter - INFO: There are 2 Transformer without subnet data.\n"
     ]
    },
    {
     "data": {
      "text/plain": [
       "['LoadProfile',\n",
       " 'RESProfile',\n",
       " 'PowerPlant',\n",
       " 'Storage',\n",
       " 'Transformer3W',\n",
       " 'Transformer',\n",
       " 'Node',\n",
       " 'ExternalNet',\n",
       " 'TransformerType',\n",
       " 'Load',\n",
       " 'Bay',\n",
       " 'Res_Node',\n",
       " 'PowerPlantProfile',\n",
       " 'Substation',\n",
       " 'DCLineType',\n",
       " 'StorageType',\n",
       " 'Measurement',\n",
       " 'RES',\n",
       " 'Transformer3WType',\n",
       " 'Shunt',\n",
       " 'StudyCases',\n",
       " 'Coordinates',\n",
       " 'Line',\n",
       " 'Switch',\n",
       " 'LineType',\n",
       " 'StorageProfile']"
      ]
     },
     "execution_count": 2,
     "metadata": {},
     "output_type": "execute_result"
    }
   ],
   "source": [
    "import pandapower.networks as nw\n",
    "import simbench as sb\n",
    "import os\n",
    "\n",
    "# let's have a look at the SimBench csv format appearance\n",
    "net = nw.mv_oberrhein()\n",
    "csv_data = sb.pp2csv_data(net)\n",
    "list(csv_data.keys())"
   ]
  },
  {
   "cell_type": "markdown",
   "metadata": {},
   "source": [
    "The list of csv_data keys show which element table exist in the SimBench csv format. The keys can be devided classes like \"elements\", \"profiles\", \"types\", \"study cases\" and \"results\", as done by csv_tablenames()."
   ]
  },
  {
   "cell_type": "markdown",
   "metadata": {},
   "source": [
    "Now let's do a full conversion from csv files to pandapower net and the same in other way around."
   ]
  },
  {
   "cell_type": "code",
   "execution_count": 5,
   "metadata": {},
   "outputs": [
    {
     "name": "stderr",
     "output_type": "stream",
     "text": [
      "C:\\Users\\e2n011\\Documents\\GIT\\pandapower-pro\\converter\\simbench\\csv_pp_converter.py:777: FutureWarning:\n",
      "\n",
      "Sorting because non-concatenation axis is not aligned. A future version\n",
      "of pandas will change to not sort by default.\n",
      "\n",
      "To accept the future behavior, pass 'sort=False'.\n",
      "\n",
      "To retain the current behavior and silence the warning, pass 'sort=True'.\n",
      "\n",
      "\n",
      "hp.pandapower.toolbox - INFO: set 0 of 0 unsupplied buses out of service\n",
      "hp.pandapower.toolbox - INFO: dropped 0 lines with 0 line switches\n",
      "hp.pandapower.toolbox - INFO: dropped 0 trafo elements with 0 switches\n",
      "hp.pandapower.toolbox - INFO: dropped 0 trafo3w elements with 0 switches\n",
      "hp.pandapower.toolbox - INFO: dropped 0 switches\n",
      "hp.converter.simbench.csv_pp_converter - INFO: There are 2 Bay without subnet data.\n",
      "hp.converter.simbench.csv_pp_converter - INFO: There are 5 ExternalNet without subnet data.\n",
      "hp.converter.simbench.csv_pp_converter - INFO: There are 10 Line without subnet data.\n",
      "hp.converter.simbench.csv_pp_converter - INFO: There are 4 Load without subnet data.\n",
      "hp.converter.simbench.csv_pp_converter - INFO: There are 1 Shunt without subnet data.\n",
      "hp.converter.simbench.csv_pp_converter - INFO: There are 13 Node without subnet data.\n",
      "hp.converter.simbench.csv_pp_converter - INFO: There are 2 Measurement without subnet data.\n",
      "hp.converter.simbench.csv_pp_converter - INFO: There are 2 PowerPlant without subnet data.\n",
      "hp.converter.simbench.csv_pp_converter - INFO: There are 2 RES without subnet data.\n",
      "hp.converter.simbench.csv_pp_converter - INFO: There are 1 Storage without subnet data.\n",
      "hp.converter.simbench.csv_pp_converter - INFO: There are 1 Substation without subnet data.\n",
      "hp.converter.simbench.csv_pp_converter - INFO: There are 3 Switch without subnet data.\n",
      "hp.converter.simbench.csv_pp_converter - INFO: There are 2 Transformer without subnet data.\n"
     ]
    }
   ],
   "source": [
    "# determine relevant paths\n",
    "test_network_path = os.path.join(sb.sb_dir, \"test\", \"converter\", \"test_network\")\n",
    "test_output_folder_path = os.path.join(simbench_converter_path(), \"test_network_output_folder\")\n",
    "\n",
    "# get the pandapower net from test network csv files\n",
    "net = sb.csv2pp(test_network_path)\n",
    "\n",
    "# convert pp net to csv files\n",
    "sb.pp2csv(net, test_output_folder_path, export_pp_std_types=False)"
   ]
  },
  {
   "cell_type": "markdown",
   "metadata": {},
   "source": [
    "If all worked fine, all csv files in test_output_folder_path should equal to the files in the test_network folder."
   ]
  },
  {
   "cell_type": "markdown",
   "metadata": {
    "collapsed": true
   },
   "source": [
    "For further information about the SimBench csv format, please look at the SimBench documentation available at www.simbench.net"
   ]
  }
 ],
 "metadata": {
  "anaconda-cloud": {},
  "kernelspec": {
   "display_name": "Python [default]",
   "language": "python",
   "name": "python3"
  },
  "language_info": {
   "codemirror_mode": {
    "name": "ipython",
    "version": 3
   },
   "file_extension": ".py",
   "mimetype": "text/x-python",
   "name": "python",
   "nbconvert_exporter": "python",
   "pygments_lexer": "ipython3",
   "version": "3.5.4"
  }
 },
 "nbformat": 4,
 "nbformat_minor": 1
}
